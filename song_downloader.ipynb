{
 "cells": [
  {
   "cell_type": "code",
   "execution_count": null,
   "id": "d50e6ce7",
   "metadata": {},
   "outputs": [],
   "source": [
    "!pip install yt-dlp\n",
    "!pip install youtube-search-python\n"
   ]
  },
  {
   "cell_type": "code",
   "execution_count": null,
   "id": "e8faf076",
   "metadata": {},
   "outputs": [],
   "source": [
    "import yt_dlp\n",
    "\n",
    "def search_and_download(song_name, download_path=\"yourSongs/\"):\n",
    "    ydl_opts = {\n",
    "        'format': 'bestaudio/best',\n",
    "        'default_search': 'ytsearch',  \n",
    "        'outtmpl': download_path + '%(title)s.%(ext)s',\n",
    "        'ffmpeg_location': 'C:/Users/aakruti.mishra/Downloads/FFmpeg/ffmpeg-7.1.1-full_build/bin/ffmpeg.exe', \n",
    "        'postprocessors': [{\n",
    "            'key': 'FFmpegExtractAudio',\n",
    "            'preferredcodec': 'mp3',\n",
    "            'preferredquality': '192',\n",
    "        }],\n",
    "        'quiet': False\n",
    "    }\n",
    "    \n",
    "    with yt_dlp.YoutubeDL(ydl_opts) as ydl:\n",
    "        ydl.download([song_name])\n",
    "\n",
    "def main_stuff(song_name):\n",
    "    song_name = song_name\n",
    "    print(\"Searching and downloading...\")\n",
    "    search_and_download(song_name)\n",
    "    print(\"Download complete!\")\n",
    "\n"
   ]
  },
  {
   "cell_type": "code",
   "execution_count": null,
   "id": "a72d460d",
   "metadata": {},
   "outputs": [],
   "source": [
    "main_stuff(\"not us anymore bradley simpson\")"
   ]
  }
 ],
 "metadata": {
  "kernelspec": {
   "display_name": "Python 3",
   "language": "python",
   "name": "python3"
  },
  "language_info": {
   "codemirror_mode": {
    "name": "ipython",
    "version": 3
   },
   "file_extension": ".py",
   "mimetype": "text/x-python",
   "name": "python",
   "nbconvert_exporter": "python",
   "pygments_lexer": "ipython3",
   "version": "3.12.10"
  }
 },
 "nbformat": 4,
 "nbformat_minor": 5
}
